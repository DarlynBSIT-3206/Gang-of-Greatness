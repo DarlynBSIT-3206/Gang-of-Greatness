{
  "nbformat": 4,
  "nbformat_minor": 0,
  "metadata": {
    "colab": {
      "name": "Educational System Malpractice and Negligence on the real purpose basis of education.ipynb",
      "provenance": [],
      "authorship_tag": "ABX9TyMdTJ2y7koOfa77uxq3wLTb",
      "include_colab_link": true
    },
    "kernelspec": {
      "name": "python3",
      "display_name": "Python 3"
    },
    "language_info": {
      "name": "python"
    }
  },
  "cells": [
    {
      "cell_type": "markdown",
      "metadata": {
        "id": "view-in-github",
        "colab_type": "text"
      },
      "source": [
        "<a href=\"https://colab.research.google.com/github/DarlynBSIT-3206/ITBA3206-Diligent-Dingos/blob/main/Educational_System_Malpractice_and_Negligence_on_the_real_purpose_basis_of_education.ipynb\" target=\"_parent\"><img src=\"https://colab.research.google.com/assets/colab-badge.svg\" alt=\"Open In Colab\"/></a>"
      ]
    },
    {
      "cell_type": "markdown",
      "source": [
        "**Educational System Malpractice and Negligence on the real purpose basis of education**"
      ],
      "metadata": {
        "id": "B5tVb388MoeP"
      }
    },
    {
      "cell_type": "code",
      "source": [
        "import numpy as np \n",
        "import pandas as pd"
      ],
      "metadata": {
        "id": "vbeGEQuUMrBO"
      },
      "execution_count": null,
      "outputs": []
    }
  ]
}