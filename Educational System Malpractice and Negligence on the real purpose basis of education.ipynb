{
  "nbformat": 4,
  "nbformat_minor": 0,
  "metadata": {
    "colab": {
      "name": "Untitled2.ipynb",
      "provenance": [],
      "authorship_tag": "ABX9TyOhl/lwvsMWz9Lv8bLSMmK9",
      "include_colab_link": true
    },
    "kernelspec": {
      "name": "python3",
      "display_name": "Python 3"
    },
    "language_info": {
      "name": "python"
    }
  },
  "cells": [
    {
      "cell_type": "markdown",
      "metadata": {
        "id": "view-in-github",
        "colab_type": "text"
      },
      "source": [
        "<a href=\"https://colab.research.google.com/github/DarlynBSIT-3206/ITBA3206-Diligent-Dingos/blob/main/Educational%20System%20Malpractice%20and%20Negligence%20on%20the%20real%20purpose%20basis%20of%20education.ipynb\" target=\"_parent\"><img src=\"https://colab.research.google.com/assets/colab-badge.svg\" alt=\"Open In Colab\"/></a>"
      ]
    },
    {
      "cell_type": "markdown",
      "source": [
        "**Educational System Malpractice and Negligence on the real purpose basis of education**"
      ],
      "metadata": {
        "id": "DAX6rKr1Gxj7"
      }
    },
    {
      "cell_type": "code",
      "source": [
        "import numpy as np\n",
        "import pandas as pd"
      ],
      "metadata": {
        "id": "RC1HaLOUHFt7"
      },
      "execution_count": null,
      "outputs": []
    }
  ]
}